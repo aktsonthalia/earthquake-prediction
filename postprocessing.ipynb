{
 "cells": [
  {
   "cell_type": "code",
   "execution_count": 3,
   "metadata": {},
   "outputs": [],
   "source": [
    "import math\n",
    "import torch"
   ]
  },
  {
   "cell_type": "code",
   "execution_count": 32,
   "metadata": {
    "collapsed": true,
    "jupyter": {
     "outputs_hidden": true
    }
   },
   "outputs": [
    {
     "name": "stdout",
     "output_type": "stream",
     "text": [
      "tensor([[ 0.7133,  0.2234, -0.2769,  1.1136, -0.2751],\n",
      "        [ 0.1058, -2.0023, -0.4761,  0.1227,  0.0069],\n",
      "        [ 0.6935,  0.3125,  0.4049,  0.0749, -0.0128]])\n",
      "tensor([[1., 0., 0., 1., 0.],\n",
      "        [0., 0., 0., 0., 0.],\n",
      "        [1., 0., 0., 0., 0.]])\n"
     ]
    }
   ],
   "source": [
    "def threshold_based_binaries(X, threshold):\n",
    "    \n",
    "    size = X.size()\n",
    "    total = math.prod([i for i in size])\n",
    "    \n",
    "    X = X.view((total))\n",
    "    \n",
    "    for i in range(total):\n",
    "        \n",
    "        if(X[i].item() >= threshold):\n",
    "            X[i] = 1\n",
    "        else:\n",
    "            X[i] = 0\n",
    "    \n",
    "    X = X.view(size)\n",
    "    \n",
    "    return X  \n",
    "\n",
    "# SAMPLE USAGE\n",
    "\n",
    "# X = torch.randn((3, 5))\n",
    "# print(X)\n",
    "# print(threshold_based_binaries(X, 0.5))"
   ]
  },
  {
   "cell_type": "code",
   "execution_count": null,
   "metadata": {},
   "outputs": [],
   "source": []
  }
 ],
 "metadata": {
  "kernelspec": {
   "display_name": "Python 3",
   "language": "python",
   "name": "python3"
  },
  "language_info": {
   "codemirror_mode": {
    "name": "ipython",
    "version": 3
   },
   "file_extension": ".py",
   "mimetype": "text/x-python",
   "name": "python",
   "nbconvert_exporter": "python",
   "pygments_lexer": "ipython3",
   "version": "3.8.2"
  }
 },
 "nbformat": 4,
 "nbformat_minor": 4
}
