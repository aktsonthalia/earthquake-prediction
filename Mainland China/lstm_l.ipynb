{
 "cells": [
  {
   "cell_type": "code",
   "execution_count": 1,
   "metadata": {},
   "outputs": [
    {
     "name": "stdout",
     "output_type": "stream",
     "text": [
      "/home/ankit/Commitments/earthquake-prediction\n",
      "importing Jupyter notebook from preprocessing.ipynb\n",
      "importing Jupyter notebook from training.ipynb\n",
      "torch.Size([10, 1, 9])\n",
      "torch.Size([1, 9])\n",
      "torch.Size([10, 1, 9])\n",
      "torch.Size([1, 9])\n",
      "torch.Size([10, 1, 9])\n",
      "torch.Size([1, 90])\n",
      "importing Jupyter notebook from postprocessing.ipynb\n",
      "importing Jupyter notebook from testing.ipynb\n",
      "/home/ankit/Commitments/earthquake-prediction/Mainland China\n"
     ]
    }
   ],
   "source": [
    "import import_ipynb\n",
    "import sys\n",
    "import torch\n",
    "from torch import nn\n",
    "from torch import optim\n",
    "\n",
    "if torch.cuda.is_available():\n",
    "    cuda = torch.cuda.device(\"cuda:0\")\n",
    "\n",
    "%cd /home/ankit/Commitments/earthquake-prediction/\n",
    "\n",
    "from preprocessing import *\n",
    "from training import *\n",
    "from postprocessing import *\n",
    "from testing import *\n",
    "\n",
    "%cd /home/ankit/Commitments/earthquake-prediction/Mainland China/"
   ]
  },
  {
   "cell_type": "code",
   "execution_count": 4,
   "metadata": {},
   "outputs": [],
   "source": [
    "# SETTINGS D\n",
    "\n",
    "data_file = \"data.csv\"\n",
    "time_parser = time_from_string_usgs\n",
    "mag_range = None\n",
    "\n",
    "rows = 3\n",
    "cols = 3\n",
    "total_params = rows*cols\n",
    "time_intervals = 690\n",
    "train_size = 0.8\n",
    "lookback_window = 30"
   ]
  },
  {
   "cell_type": "code",
   "execution_count": 5,
   "metadata": {},
   "outputs": [
    {
     "name": "stdout",
     "output_type": "stream",
     "text": [
      "No earthquakes were recorded in this cell.\n"
     ]
    }
   ],
   "source": [
    "earthquakes = extract_from_csv(data_file, time_parser, mag_range)\n",
    "cells = Spatio_Temporal_Segmentation(rows, cols, time_intervals, earthquakes)\n",
    "\n",
    "print(cells[0][0][0])"
   ]
  },
  {
   "cell_type": "code",
   "execution_count": 6,
   "metadata": {},
   "outputs": [
    {
     "name": "stdout",
     "output_type": "stream",
     "text": [
      "torch.Size([690, 1, 9])\n",
      "torch.Size([690, 1, 9])\n",
      "torch.Size([690, 1, 9])\n",
      "torch.Size([690, 1, 9])\n"
     ]
    }
   ],
   "source": [
    "generator = TensorGen(cells)\n",
    "\n",
    "eventtensor = generator.eventNoEvent()\n",
    "freqtensor = generator.freq()\n",
    "minmagtensor = generator.min_magnitude()\n",
    "maxmagtensor = generator.max_magnitude()\n",
    "\n",
    "if torch.cuda.is_available:\n",
    "    eventtensor = eventtensor.cuda()\n",
    "    freqtensor = freqtensor.cuda()\n",
    "    minmagtensor = minmagtensor.cuda()\n",
    "    maxmagtensor = maxmagtensor.cuda()\n",
    "    \n",
    "print(eventtensor.size())\n",
    "print(freqtensor.size())\n",
    "print(minmagtensor.size())\n",
    "print(maxmagtensor.size())"
   ]
  },
  {
   "cell_type": "markdown",
   "metadata": {},
   "source": [
    "<strong>TRAINING EVENT PREDICTOR</strong>"
   ]
  },
  {
   "cell_type": "code",
   "execution_count": 30,
   "metadata": {},
   "outputs": [],
   "source": [
    "#SETTINGS M1\n",
    "\n",
    "hidden_parameters = 40\n",
    "linear_parameters = 30\n",
    "num_layers = 5"
   ]
  },
  {
   "cell_type": "code",
   "execution_count": 31,
   "metadata": {},
   "outputs": [],
   "source": [
    "model = LSTM(total_params, hidden_parameters, linear_parameters, total_params, num_layers=num_layers, activation=nn.Tanh())\n",
    "\n",
    "if torch.cuda.is_available():\n",
    "    model = model.cuda()\n",
    "    \n",
    "# out = model(eventtensor)\n",
    "# print(out)"
   ]
  },
  {
   "cell_type": "code",
   "execution_count": 32,
   "metadata": {},
   "outputs": [],
   "source": [
    "# SETTINGS T1\n",
    "pos_weight = torch.tensor([1])\n",
    "pos_weight = pos_weight.cuda()\n",
    "loss_function = nn.BCEWithLogitsLoss(pos_weight=pos_weight)\n",
    "loss_function = nn.MSELoss()\n",
    "n_epochs = 100"
   ]
  },
  {
   "cell_type": "code",
   "execution_count": 33,
   "metadata": {},
   "outputs": [
    {
     "name": "stderr",
     "output_type": "stream",
     "text": [
      "100%|██████████| 640/640 [00:10<00:00, 62.12it/s] "
     ]
    },
    {
     "name": "stdout",
     "output_type": "stream",
     "text": [
      "Epoch 1 completed. \n",
      "Training Loss: 0.157\n",
      "Test Loss: 0.162\n"
     ]
    },
    {
     "name": "stderr",
     "output_type": "stream",
     "text": [
      "\n"
     ]
    }
   ],
   "source": [
    "optimizer = optim.Adagrad(model.parameters(), lr=0.01)\n",
    "\n",
    "# tqdm._instances.clear()\n",
    "train(model, eventtensor, optimizer, loss_function, n_epochs=1)"
   ]
  },
  {
   "cell_type": "code",
   "execution_count": 34,
   "metadata": {},
   "outputs": [
    {
     "name": "stderr",
     "output_type": "stream",
     "text": [
      "100%|██████████| 660/660 [00:03<00:00, 179.32it/s]\n"
     ]
    },
    {
     "name": "stdout",
     "output_type": "stream",
     "text": [
      "Evaluation results for training dataset:\n",
      "4698 evaluations in total.\n",
      "2211/2479 cells with earthquake activity were correctly identified. (89.19 %)\n",
      "776/2219 cells with no earthquake activity were correctly identified. (34.97 %)\n",
      "1443/3654 positives turned out to be false.\n",
      "268/1044 negatives turned out to be false.\n",
      "Preicision: 0.605\n",
      "Recall: 0.892\n",
      "Overall accuracy: 63.58 %\n",
      "Evaluation results for training dataset:\n",
      "1242 evaluations in total.\n",
      "764/893 cells with earthquake activity were correctly identified. (85.55 %)\n",
      "147/349 cells with no earthquake activity were correctly identified. (42.12 %)\n",
      "202/966 positives turned out to be false.\n",
      "129/276 negatives turned out to be false.\n",
      "Preicision: 0.791\n",
      "Recall: 0.856\n",
      "Overall accuracy: 73.35 %\n"
     ]
    }
   ],
   "source": [
    "evaluate(data=eventtensor, model=model, train_size=0.8, lookback_window=lookback_window, threshold=0.5)"
   ]
  },
  {
   "cell_type": "code",
   "execution_count": null,
   "metadata": {},
   "outputs": [],
   "source": []
  },
  {
   "cell_type": "code",
   "execution_count": null,
   "metadata": {},
   "outputs": [],
   "source": []
  },
  {
   "cell_type": "code",
   "execution_count": null,
   "metadata": {},
   "outputs": [],
   "source": []
  }
 ],
 "metadata": {
  "kernelspec": {
   "display_name": "Python 3",
   "language": "python",
   "name": "python3"
  },
  "language_info": {
   "codemirror_mode": {
    "name": "ipython",
    "version": 3
   },
   "file_extension": ".py",
   "mimetype": "text/x-python",
   "name": "python",
   "nbconvert_exporter": "python",
   "pygments_lexer": "ipython3",
   "version": "3.8.2"
  }
 },
 "nbformat": 4,
 "nbformat_minor": 4
}
