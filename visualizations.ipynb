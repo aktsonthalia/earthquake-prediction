{
 "cells": [
  {
   "cell_type": "code",
   "execution_count": 2,
   "metadata": {},
   "outputs": [],
   "source": [
    "import import_ipynb\n",
    "import matplotlib.pyplot as plt\n",
    "\n",
    "from preprocessing import *  \n"
   ]
  },
  {
   "cell_type": "code",
   "execution_count": null,
   "metadata": {},
   "outputs": [],
   "source": [
    "def plot(cells, row, col, mode):\n",
    "    \n",
    "    x = [i+1 for i in range(cells.num_intervals)]\n",
    "    \n",
    "    if mode == \"freq\":\n",
    "        \n",
    "        y = [cells[i][row][col].freq for i in range(cells.num_intervals)]\n",
    "        plt.plot(x, y, label='frequency')\n",
    "        plt.xlabel(\"Time segment\")\n",
    "        plt.ylabel(\"Frequency\")\n",
    "        plt.title(\"Frequency of earthquakes over time\")\n",
    "#         plt.legend()\n",
    "        \n",
    "    if mode == 'min':\n",
    "        \n",
    "        y = [cells[i][row][col].min_magnitude for i in range(cells.num_intervals)]\n",
    "        for j in range(len(y)):\n",
    "            if(cells[j][row][col].freq == 0):\n",
    "                y[j] = 0\n",
    "        \n",
    "        \n",
    "        plt.plot(x, y)\n",
    "        plt.xlabel(\"Time segment\")\n",
    "        plt.ylabel(\"Magnitude\")\n",
    "        plt.title(\"Minimum magnitude of earthquakes over time\")\n",
    "        \n",
    "   \n",
    "    if mode == 'max':\n",
    "        \n",
    "        y = [cells[i][row][col].max_magnitude for i in range(cells.num_intervals)]\n",
    "        \n",
    "        \n",
    "        plt.plot(x, y)\n",
    "        plt.xlabel(\"Time segment\")\n",
    "        plt.ylabel(\"Magnitude\")\n",
    "        plt.title(\"Maximum magnitude of earthquakes over time\")\n",
    "        \n",
    "\n",
    "    \n",
    "# SAMPLE USAGE\n",
    "\n",
    "rows = 4\n",
    "cols = 5\n",
    "num_intervals = 70\n",
    "earthquakes = extract_from_csv(\"indonesia.csv\", time_from_string_dmy)\n",
    "cells = Spatio_Temporal_Segmentation(rows, cols, num_intervals, earthquakes)\n",
    "plot(cells, 1, 3, mode='freq')"
   ]
  },
  {
   "cell_type": "code",
   "execution_count": null,
   "metadata": {},
   "outputs": [],
   "source": []
  },
  {
   "cell_type": "code",
   "execution_count": null,
   "metadata": {},
   "outputs": [],
   "source": []
  }
 ],
 "metadata": {
  "kernelspec": {
   "display_name": "Python 3",
   "language": "python",
   "name": "python3"
  },
  "language_info": {
   "codemirror_mode": {
    "name": "ipython",
    "version": 3
   },
   "file_extension": ".py",
   "mimetype": "text/x-python",
   "name": "python",
   "nbconvert_exporter": "python",
   "pygments_lexer": "ipython3",
   "version": "3.8.2"
  }
 },
 "nbformat": 4,
 "nbformat_minor": 4
}
