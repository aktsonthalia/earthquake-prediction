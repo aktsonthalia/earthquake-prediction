{
 "cells": [
  {
   "cell_type": "code",
   "execution_count": 2,
   "metadata": {},
   "outputs": [
    {
     "name": "stdout",
     "output_type": "stream",
     "text": [
      "/home/ankit/Commitments/earthquake-prediction\n",
      "importing Jupyter notebook from preprocessing.ipynb\n",
      "importing Jupyter notebook from training.ipynb\n",
      "torch.Size([10, 1, 9])\n",
      "torch.Size([1, 9])\n",
      "torch.Size([10, 1, 9])\n",
      "torch.Size([1, 9])\n",
      "torch.Size([10, 1, 9])\n",
      "torch.Size([1, 90])\n",
      "importing Jupyter notebook from postprocessing.ipynb\n",
      "importing Jupyter notebook from testing.ipynb\n",
      "/home/ankit/Commitments/earthquake-prediction/Indonesia-Sulawesi\n"
     ]
    }
   ],
   "source": [
    "import import_ipynb\n",
    "import sys\n",
    "import torch\n",
    "from torch import nn\n",
    "from torch import optim\n",
    "\n",
    "if torch.cuda.is_available():\n",
    "    cuda = torch.cuda.device(\"cuda:0\")\n",
    "\n",
    "%cd /home/ankit/Commitments/earthquake-prediction/\n",
    "\n",
    "from preprocessing import *\n",
    "from training import *\n",
    "from postprocessing import *\n",
    "from testing import *\n",
    "\n",
    "%cd /home/ankit/Commitments/earthquake-prediction/Indonesia-Sulawesi/"
   ]
  },
  {
   "cell_type": "code",
   "execution_count": 3,
   "metadata": {},
   "outputs": [],
   "source": [
    "# SETTINGS D\n",
    "\n",
    "data_file = \"data.csv\"\n",
    "time_parser = time_from_string_dmy\n",
    "mag_range = (6.0, 8.0)\n",
    "\n",
    "rows = 3\n",
    "cols = 3\n",
    "total_params = rows*cols\n",
    "time_intervals = 1200\n",
    "train_size = 0.8\n",
    "lookback_window = 80"
   ]
  },
  {
   "cell_type": "code",
   "execution_count": 22,
   "metadata": {},
   "outputs": [
    {
     "name": "stdout",
     "output_type": "stream",
     "text": [
      "315 10485\n"
     ]
    }
   ],
   "source": [
    "earthquakes = extract_from_csv(data_file, time_parser, mag_range)\n",
    "cells = Spatio_Temporal_Segmentation(rows, cols, time_intervals, earthquakes)\n",
    "\n",
    "p = 0\n",
    "n = 0\n",
    "for i in range(time_intervals):\n",
    "    for j in range(rows):\n",
    "        for k in range(cols):\n",
    "            if cells[i][j][k].has_event == 1:\n",
    "                p += 1\n",
    "            else:\n",
    "                n += 1\n",
    "print(p, n)"
   ]
  },
  {
   "cell_type": "code",
   "execution_count": 23,
   "metadata": {},
   "outputs": [
    {
     "name": "stdout",
     "output_type": "stream",
     "text": [
      "torch.Size([1200, 1, 9])\n",
      "torch.Size([1200, 1, 9])\n",
      "torch.Size([1200, 1, 9])\n",
      "torch.Size([1200, 1, 9])\n"
     ]
    }
   ],
   "source": [
    "generator = TensorGen(cells)\n",
    "\n",
    "eventtensor = generator.eventNoEvent()\n",
    "freqtensor = generator.freq()\n",
    "minmagtensor = generator.min_magnitude()\n",
    "maxmagtensor = generator.max_magnitude()\n",
    "\n",
    "if torch.cuda.is_available:\n",
    "    eventtensor = eventtensor.cuda()\n",
    "    freqtensor = freqtensor.cuda()\n",
    "    minmagtensor = minmagtensor.cuda()\n",
    "    maxmagtensor = maxmagtensor.cuda()\n",
    "    \n",
    "print(eventtensor.size())\n",
    "print(freqtensor.size())\n",
    "print(minmagtensor.size())\n",
    "print(maxmagtensor.size())"
   ]
  },
  {
   "cell_type": "markdown",
   "metadata": {},
   "source": [
    "<strong>TRAINING EVENT PREDICTOR</strong>"
   ]
  },
  {
   "cell_type": "code",
   "execution_count": 37,
   "metadata": {},
   "outputs": [],
   "source": [
    "#SETTINGS M1\n",
    "\n",
    "hidden_parameters = 40\n",
    "linear_parameters = 40\n",
    "num_layers = 2"
   ]
  },
  {
   "cell_type": "code",
   "execution_count": 48,
   "metadata": {},
   "outputs": [],
   "source": [
    "model = LSTM(total_params, hidden_parameters, linear_parameters, total_params, num_layers=num_layers, activation=nn.Tanh())\n",
    "\n",
    "if torch.cuda.is_available():\n",
    "    model = model.cuda()\n",
    "    \n",
    "# out = model(eventtensor)\n",
    "# print(out)"
   ]
  },
  {
   "cell_type": "code",
   "execution_count": 49,
   "metadata": {},
   "outputs": [],
   "source": [
    "# SETTINGS T1\n",
    "pos_weight = torch.tensor([30])\n",
    "pos_weight = pos_weight.cuda()\n",
    "loss_function = nn.BCEWithLogitsLoss(pos_weight=pos_weight)\n",
    "# loss_function = nn.MSELoss()\n",
    "n_epochs = 100"
   ]
  },
  {
   "cell_type": "code",
   "execution_count": 52,
   "metadata": {},
   "outputs": [
    {
     "name": "stderr",
     "output_type": "stream",
     "text": [
      "100%|██████████| 1150/1150 [00:46<00:00, 24.53it/s]\n"
     ]
    },
    {
     "name": "stdout",
     "output_type": "stream",
     "text": [
      "Epoch 1 completed. \n",
      "Training Loss: 1.149\n",
      "Test Loss: 1.284\n"
     ]
    }
   ],
   "source": [
    "optimizer = optim.Adagrad(model.parameters(), lr=0.001)\n",
    "\n",
    "# tqdm._instances.clear()\n",
    "train(model, eventtensor, optimizer, loss_function, n_epochs=1)"
   ]
  },
  {
   "cell_type": "code",
   "execution_count": 53,
   "metadata": {},
   "outputs": [
    {
     "name": "stderr",
     "output_type": "stream",
     "text": [
      "100%|██████████| 1120/1120 [00:24<00:00, 45.18it/s]\n"
     ]
    },
    {
     "name": "stdout",
     "output_type": "stream",
     "text": [
      "Evaluation results for training dataset:\n",
      "7920 evaluations in total.\n",
      "81/220 cells with earthquake activity were correctly identified. (36.82 %)\n",
      "6901/7700 cells with no earthquake activity were correctly identified. (89.62 %)\n",
      "799/880 positives turned out to be false.\n",
      "139/7040 negatives turned out to be false.\n",
      "Preicision: 0.092\n",
      "Recall: 0.368\n",
      "F1 Score: 0.147\n",
      "Overall accuracy: 88.16 %\n",
      "Evaluation results for training dataset:\n",
      "2160 evaluations in total.\n",
      "23/72 cells with earthquake activity were correctly identified. (31.94 %)\n",
      "1871/2088 cells with no earthquake activity were correctly identified. (89.61 %)\n",
      "217/240 positives turned out to be false.\n",
      "49/1920 negatives turned out to be false.\n",
      "Preicision: 0.096\n",
      "Recall: 0.319\n",
      "F1 Score: 0.147\n",
      "Overall accuracy: 87.69 %\n"
     ]
    }
   ],
   "source": [
    "evaluate(data=eventtensor, model=model, train_size=0.8, lookback_window=lookback_window, threshold=0.5)"
   ]
  },
  {
   "cell_type": "code",
   "execution_count": null,
   "metadata": {},
   "outputs": [],
   "source": []
  },
  {
   "cell_type": "code",
   "execution_count": null,
   "metadata": {},
   "outputs": [],
   "source": []
  },
  {
   "cell_type": "code",
   "execution_count": null,
   "metadata": {},
   "outputs": [],
   "source": []
  }
 ],
 "metadata": {
  "kernelspec": {
   "display_name": "Python 3",
   "language": "python",
   "name": "python3"
  },
  "language_info": {
   "codemirror_mode": {
    "name": "ipython",
    "version": 3
   },
   "file_extension": ".py",
   "mimetype": "text/x-python",
   "name": "python",
   "nbconvert_exporter": "python",
   "pygments_lexer": "ipython3",
   "version": "3.8.2"
  }
 },
 "nbformat": 4,
 "nbformat_minor": 4
}
