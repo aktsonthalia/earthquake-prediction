{
 "cells": [
  {
   "cell_type": "code",
   "execution_count": 1,
   "metadata": {},
   "outputs": [
    {
     "name": "stdout",
     "output_type": "stream",
     "text": [
      "/home/ankit/Commitments/earthquake-prediction\n",
      "importing Jupyter notebook from preprocessing.ipynb\n",
      "importing Jupyter notebook from training.ipynb\n",
      "torch.Size([10, 1, 9])\n",
      "torch.Size([1, 9])\n",
      "torch.Size([10, 1, 9])\n",
      "torch.Size([1, 9])\n",
      "torch.Size([10, 1, 9])\n",
      "torch.Size([1, 90])\n",
      "importing Jupyter notebook from postprocessing.ipynb\n",
      "importing Jupyter notebook from testing.ipynb\n",
      "/home/ankit/Commitments/earthquake-prediction/Indonesia-Sulawesi\n"
     ]
    }
   ],
   "source": [
    "import import_ipynb\n",
    "import sys\n",
    "import torch\n",
    "from torch import nn\n",
    "from torch import optim\n",
    "\n",
    "if torch.cuda.is_available():\n",
    "    cuda = torch.cuda.device(\"cuda:0\")\n",
    "\n",
    "%cd /home/ankit/Commitments/earthquake-prediction/\n",
    "\n",
    "from preprocessing import *\n",
    "from training import *\n",
    "from postprocessing import *\n",
    "from testing import *\n",
    "\n",
    "%cd /home/ankit/Commitments/earthquake-prediction/Indonesia-Sulawesi/"
   ]
  },
  {
   "cell_type": "code",
   "execution_count": 2,
   "metadata": {},
   "outputs": [],
   "source": [
    "# SETTINGS D\n",
    "\n",
    "data_file = \"data.csv\"\n",
    "time_parser = time_from_string_dmy\n",
    "mag_range = (5.0, 6.0)\n",
    "\n",
    "rows = 3\n",
    "cols = 3\n",
    "total_params = rows*cols\n",
    "time_intervals = 1200\n",
    "train_size = 0.8\n",
    "lookback_window = 50"
   ]
  },
  {
   "cell_type": "code",
   "execution_count": 4,
   "metadata": {},
   "outputs": [
    {
     "name": "stdout",
     "output_type": "stream",
     "text": [
      "-10.0\n",
      "115.01\n",
      "5.0\n",
      "130.0\n",
      "No earthquakes were recorded in this cell.\n"
     ]
    }
   ],
   "source": [
    "earthquakes = extract_from_csv(data_file, time_parser, mag_range)\n",
    "\n",
    "print(min([earthquake.location.latitude for earthquake in earthquakes]))\n",
    "print(min([earthquake.location.longitude for earthquake in earthquakes]))\n",
    "print(max([earthquake.location.latitude for earthquake in earthquakes]))\n",
    "print(max([earthquake.location.longitude for earthquake in earthquakes]))\n",
    "\n",
    "cells = Spatio_Temporal_Segmentation(rows, cols, time_intervals, earthquakes)\n",
    "\n",
    "print(cells[0][0][0])"
   ]
  },
  {
   "cell_type": "code",
   "execution_count": 5,
   "metadata": {},
   "outputs": [
    {
     "name": "stdout",
     "output_type": "stream",
     "text": [
      "torch.Size([1200, 1, 9])\n",
      "torch.Size([1200, 1, 9])\n",
      "torch.Size([1200, 1, 9])\n",
      "torch.Size([1200, 1, 9])\n"
     ]
    }
   ],
   "source": [
    "generator = TensorGen(cells)\n",
    "\n",
    "eventtensor = generator.eventNoEvent()\n",
    "freqtensor = generator.freq()\n",
    "minmagtensor = generator.min_magnitude()\n",
    "maxmagtensor = generator.max_magnitude()\n",
    "\n",
    "if torch.cuda.is_available:\n",
    "    eventtensor = eventtensor.cuda()\n",
    "    freqtensor = freqtensor.cuda()\n",
    "    minmagtensor = minmagtensor.cuda()\n",
    "    maxmagtensor = maxmagtensor.cuda()\n",
    "    \n",
    "print(eventtensor.size())\n",
    "print(freqtensor.size())\n",
    "print(minmagtensor.size())\n",
    "print(maxmagtensor.size())"
   ]
  },
  {
   "cell_type": "markdown",
   "metadata": {},
   "source": [
    "<strong>TRAINING EVENT PREDICTOR</strong>"
   ]
  },
  {
   "cell_type": "code",
   "execution_count": 6,
   "metadata": {},
   "outputs": [],
   "source": [
    "#SETTINGS M1\n",
    "\n",
    "hidden_parameters = 40\n",
    "linear_parameters = 20\n",
    "num_layers = 1"
   ]
  },
  {
   "cell_type": "code",
   "execution_count": 7,
   "metadata": {},
   "outputs": [],
   "source": [
    "model = LSTM(total_params, hidden_parameters, linear_parameters, total_params, num_layers=num_layers, activation=nn.Tanh())\n",
    "\n",
    "if torch.cuda.is_available():\n",
    "    model = model.cuda()\n",
    "    \n",
    "# out = model(eventtensor)\n",
    "# print(out)"
   ]
  },
  {
   "cell_type": "code",
   "execution_count": 8,
   "metadata": {},
   "outputs": [],
   "source": [
    "# SETTINGS T1\n",
    "pos_weight = torch.tensor([3])\n",
    "pos_weight = pos_weight.cuda()\n",
    "loss_function = nn.BCEWithLogitsLoss(pos_weight=pos_weight)\n",
    "# loss_function = nn.MSELoss()\n",
    "n_epochs = 100"
   ]
  },
  {
   "cell_type": "code",
   "execution_count": 11,
   "metadata": {},
   "outputs": [
    {
     "name": "stderr",
     "output_type": "stream",
     "text": [
      "100%|██████████| 1150/1150 [00:31<00:00, 36.25it/s]\n"
     ]
    },
    {
     "name": "stdout",
     "output_type": "stream",
     "text": [
      "Epoch 1 completed. \n",
      "Training Loss: 0.931\n",
      "Test Loss: 0.919\n"
     ]
    }
   ],
   "source": [
    "optimizer = optim.Adagrad(model.parameters(), lr=0.01)\n",
    "\n",
    "# tqdm._instances.clear()\n",
    "train(model, eventtensor, optimizer, loss_function, n_epochs=1)"
   ]
  },
  {
   "cell_type": "code",
   "execution_count": 12,
   "metadata": {},
   "outputs": [
    {
     "name": "stderr",
     "output_type": "stream",
     "text": [
      "100%|██████████| 1150/1150 [00:12<00:00, 93.61it/s]\n"
     ]
    },
    {
     "name": "stdout",
     "output_type": "stream",
     "text": [
      "Evaluation results for training dataset:\n",
      "8190 evaluations in total.\n",
      "1557/2555 cells with earthquake activity were correctly identified. (60.94 %)\n",
      "4462/5635 cells with no earthquake activity were correctly identified. (79.18 %)\n",
      "1173/2730 positives turned out to be false.\n",
      "998/5460 negatives turned out to be false.\n",
      "Preicision: 0.570\n",
      "Recall: 0.609\n",
      "F1 Score: 0.589\n",
      "Overall accuracy: 73.49 %\n",
      "Evaluation results for training dataset:\n",
      "2160 evaluations in total.\n",
      "367/599 cells with earthquake activity were correctly identified. (61.27 %)\n",
      "1208/1561 cells with no earthquake activity were correctly identified. (77.39 %)\n",
      "353/720 positives turned out to be false.\n",
      "232/1440 negatives turned out to be false.\n",
      "Preicision: 0.510\n",
      "Recall: 0.613\n",
      "F1 Score: 0.556\n",
      "Overall accuracy: 72.92 %\n"
     ]
    }
   ],
   "source": [
    "evaluate(data=eventtensor, model=model, train_size=0.8, lookback_window=lookback_window, threshold=0.5)"
   ]
  },
  {
   "cell_type": "code",
   "execution_count": null,
   "metadata": {},
   "outputs": [],
   "source": []
  },
  {
   "cell_type": "code",
   "execution_count": null,
   "metadata": {},
   "outputs": [],
   "source": []
  },
  {
   "cell_type": "code",
   "execution_count": null,
   "metadata": {},
   "outputs": [],
   "source": []
  }
 ],
 "metadata": {
  "kernelspec": {
   "display_name": "Python 3",
   "language": "python",
   "name": "python3"
  },
  "language_info": {
   "codemirror_mode": {
    "name": "ipython",
    "version": 3
   },
   "file_extension": ".py",
   "mimetype": "text/x-python",
   "name": "python",
   "nbconvert_exporter": "python",
   "pygments_lexer": "ipython3",
   "version": "3.8.2"
  }
 },
 "nbformat": 4,
 "nbformat_minor": 4
}
